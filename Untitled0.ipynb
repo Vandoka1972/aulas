{
  "nbformat": 4,
  "nbformat_minor": 0,
  "metadata": {
    "colab": {
      "provenance": [],
      "authorship_tag": "ABX9TyOikgkiEqP+LAB5a5OEEzNW",
      "include_colab_link": true
    },
    "kernelspec": {
      "name": "python3",
      "display_name": "Python 3"
    },
    "language_info": {
      "name": "python"
    }
  },
  "cells": [
    {
      "cell_type": "markdown",
      "metadata": {
        "id": "view-in-github",
        "colab_type": "text"
      },
      "source": [
        "<a href=\"https://colab.research.google.com/github/Vandoka1972/aulas/blob/master/Untitled0.ipynb\" target=\"_parent\"><img src=\"https://colab.research.google.com/assets/colab-badge.svg\" alt=\"Open In Colab\"/></a>"
      ]
    },
    {
      "cell_type": "markdown",
      "source": [
        "Primeira execução em Phyton Google Colab\n",
        "vandomaja72@gmail.com\n",
        "Inicio 07/12/2022 as 08:41\n"
      ],
      "metadata": {
        "id": "lB7SLSAxY0p0"
      }
    },
    {
      "cell_type": "code",
      "source": [
        "print(\"Hello Word ou Olá Mundo Python\")\n",
        "#Variaveis\n",
        "idade = 30\n",
        "print(\"sua idade é \")\n",
        "print(idade)\n"
      ],
      "metadata": {
        "colab": {
          "base_uri": "https://localhost:8080/"
        },
        "id": "KtkqEDxmZOZc",
        "outputId": "4ddd7782-e82c-46c7-8680-6e4731a27c99"
      },
      "execution_count": 5,
      "outputs": [
        {
          "output_type": "stream",
          "name": "stdout",
          "text": [
            "Hello Word ou Olá Mundo Python\n",
            "sua idade é \n",
            "30\n"
          ]
        }
      ]
    },
    {
      "cell_type": "code",
      "source": [
        "#Tipos Nativos\n",
        "preco = 1000\n",
        "tipo_preco = type(preco)\n",
        "\n",
        "print(preco)\n",
        "print(tipo_preco)\n",
        "\n",
        "kmida = 45\n",
        "kmvolta = 45\n",
        "totalkm = kmida + kmvolta\n",
        "print(totalkm)\n",
        "\n",
        "valorkm = 2.40\n",
        "valkm = totalkm * valorkm\n",
        "print(valkm)\n",
        "\n",
        "visitatec = 285\n",
        "valrat = valkm + visitatec\n",
        "print('km e vista é ')\n",
        "print(valrat)\n",
        "\n",
        "entrada = 8.45\n",
        "saida = 17.45\n",
        "\n",
        "horatrab = saida - entrada\n",
        "print('hora trabalhada')\n",
        "print(horatrab)\n",
        "\n",
        "valhora = 165\n",
        "tothora = horatrab * valhora\n",
        "print('hora mais valor total é')\n",
        "print(tothora)\n",
        "\n",
        "totrat = valrat + tothora\n",
        "print('o Total Geral é')\n",
        "print(totrat)\n",
        "\n"
      ],
      "metadata": {
        "colab": {
          "base_uri": "https://localhost:8080/"
        },
        "id": "_IktgTcrcUXm",
        "outputId": "a63fd4b2-ac8d-45da-f11d-c5ea4dbfc776"
      },
      "execution_count": 26,
      "outputs": [
        {
          "output_type": "stream",
          "name": "stdout",
          "text": [
            "1000\n",
            "<class 'int'>\n",
            "90\n",
            "216.0\n",
            "km e vista é \n",
            "501.0\n",
            "hora trabalhada\n",
            "9.0\n",
            "hora mais valor total é\n",
            "1485.0\n",
            "o Total Geral é\n",
            "1986.0\n"
          ]
        }
      ]
    },
    {
      "cell_type": "markdown",
      "source": [
        "Calculo de Deslocamentos com base 1"
      ],
      "metadata": {
        "id": "5SvgMos0nsYV"
      }
    },
    {
      "cell_type": "code",
      "source": [],
      "metadata": {
        "id": "FJp0CmyQnzZY"
      },
      "execution_count": null,
      "outputs": []
    }
  ]
}